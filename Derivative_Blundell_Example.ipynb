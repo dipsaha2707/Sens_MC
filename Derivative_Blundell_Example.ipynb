{
 "cells": [
  {
   "cell_type": "code",
   "execution_count": null,
   "metadata": {},
   "outputs": [],
   "source": [
    "import os\n",
    "import sys\n",
    "sys.path.insert(0, \"../\")\n",
    "from MVB.nn import GaussianLinear\n",
    "from MVB.nn import GaussianConv2d\n",
    "from MVB.nn import GaussianParameter\n",
    "from MVB.nn.utils import MixturePenalty, SetMixturePrior, CalculateDropThreshold, SetThreshold, LockEpsilon, RollEpsilon\n",
    "import torch\n",
    "import torch.nn as nn\n",
    "import torch.nn.functional as F\n",
    "import torchvision\n",
    "import torchvision.transforms as transforms\n",
    "import time\n",
    "import math\n",
    "import json\n",
    "import random\n",
    "import numpy as np\n",
    "import matplotlib.pyplot as plt\n",
    "from numpy import savetxt"
   ]
  },
  {
   "cell_type": "code",
   "execution_count": 724,
   "metadata": {},
   "outputs": [],
   "source": [
    "p = 1\n",
    "X = torch.arange(-3, 3, 0.005).reshape((1200, 1))## generate X of (n=1000, p = 10) each element follows N(0,1)\n",
    "\n",
    "train_dataset = X"
   ]
  },
  {
   "cell_type": "code",
   "execution_count": 725,
   "metadata": {},
   "outputs": [],
   "source": [
    "h = 200\n",
    "\n",
    "# a neural network with 1 hidden layer that input 10 dimension x and output 1 dimension y hat with relu as activation function\n",
    "class NeuralNet(nn.Module):\n",
    "    def __init__(self):\n",
    "        super(NeuralNet, self).__init__()\n",
    "        self.relu = nn.ReLU()\n",
    "        self.fc1 = GaussianLinear(p, 20)\n",
    "        self.fc2= GaussianLinear(20,20)\n",
    "        self.fc3= GaussianLinear(20,h)\n",
    "        self.fc4= GaussianLinear(h,1)\n",
    "        ## eta = log sigma^2, where sigma^2 is the variance for iid noise in regression setting\n",
    "        ## to apply our framework, estimate sigma^2 is a must since we need complete likelihood information while combine\n",
    "        ## with the spike slab prior\n",
    "        self.eta = nn.Parameter(torch.zeros(1))\n",
    "    \n",
    "    def forward(self, x):\n",
    "        out = self.relu(self.fc1(x))\n",
    "        out = self.relu(self.fc2(out))\n",
    "        out = self.relu(self.fc3(out))\n",
    "        out = self.fc4(out)\n",
    "        return out\n",
    "    \n",
    "    ## customer function to compute estimated noise variance from eta\n",
    "    def getSigmaSq(self):\n",
    "        return torch.exp(self.eta)"
   ]
  },
  {
   "cell_type": "code",
   "execution_count": 726,
   "metadata": {},
   "outputs": [],
   "source": [
    "num_epochs = 50\n",
    "batch_size = 1\n",
    "#learning_rate = 0.05\n",
    "#scheduler_step_size = 100\n",
    "#scheduler_gamma = 1\n",
    "#optim = 'SGD'\n",
    "\n",
    "#seed = 58810\n",
    "\n",
    "#torch.manual_seed(seed)"
   ]
  },
  {
   "cell_type": "code",
   "execution_count": 727,
   "metadata": {},
   "outputs": [],
   "source": [
    "## insert data into train loader and test loader\n",
    "train_loader = torch.utils.data.DataLoader(dataset = train_dataset,\n",
    "                                          batch_size = batch_size,\n",
    "                                          shuffle = False)\n",
    "# test_loader = torch.utils.data.DataLoader(dataset = test_dataset,\n",
    "#                                           batch_size = batch_size,\n",
    "#                                           shuffle = False)"
   ]
  },
  {
   "cell_type": "code",
   "execution_count": 728,
   "metadata": {},
   "outputs": [],
   "source": [
    "device = torch.device('cuda' if torch.cuda.is_available() else 'cpu')\n",
    "model = torch.load('results/model_bl1.pt').to(device)\n",
    "\n",
    "#criterion = nn.CrossEntropyLoss()"
   ]
  },
  {
   "cell_type": "code",
   "execution_count": 730,
   "metadata": {},
   "outputs": [],
   "source": [
    "yhat = model(X.to(device)).detach()"
   ]
  },
  {
   "cell_type": "code",
   "execution_count": 732,
   "metadata": {},
   "outputs": [],
   "source": [
    "xs = X[:, 0:1].cpu().numpy()\n",
    "y_hat =yhat[:, 0:1].cpu().numpy()"
   ]
  },
  {
   "cell_type": "code",
   "execution_count": 733,
   "metadata": {},
   "outputs": [
    {
     "data": {
      "text/plain": [
       "[<matplotlib.lines.Line2D at 0x7fcfc5a4f290>]"
      ]
     },
     "execution_count": 733,
     "metadata": {},
     "output_type": "execute_result"
    },
    {
     "data": {
      "image/png": "[encoded data removed]",
      "text/plain": [
       "<Figure size 432x288 with 1 Axes>"
      ]
     },
     "metadata": {
      "needs_background": "light"
     },
     "output_type": "display_data"
    }
   ],
   "source": [
    "plt.plot(xs, y_hat)"
   ]
  },
  {
   "cell_type": "code",
   "execution_count": 734,
   "metadata": {},
   "outputs": [
    {
     "data": {
      "text/plain": [
       "tensor([[0.],\n",
       "        [0.],\n",
       "        [0.],\n",
       "        ...,\n",
       "        [0.],\n",
       "        [0.],\n",
       "        [0.]], device='cuda:0')"
      ]
     },
     "execution_count": 734,
     "metadata": {},
     "output_type": "execute_result"
    }
   ],
   "source": [
    "## put model into lock epsilon mode\n",
    "\n",
    "grads_sum = torch.zeros((len(X), 1 ), device  = \"cuda\")\n",
    "\n",
    "grads_sum"
   ]
  },
  {
   "cell_type": "code",
   "execution_count": 735,
   "metadata": {},
   "outputs": [
    {
     "name": "stdout",
     "output_type": "stream",
     "text": [
      "Run: 1, Time: 3.1911\n",
      "Run: 2, Time: 6.4823\n",
      "Run: 3, Time: 9.8766\n",
      "Run: 4, Time: 13.2100\n",
      "Run: 5, Time: 16.3621\n",
      "Run: 6, Time: 19.6185\n",
      "Run: 7, Time: 22.8938\n",
      "Run: 8, Time: 26.1471\n",
      "Run: 9, Time: 29.4131\n",
      "Run: 10, Time: 32.7113\n",
      "Run: 11, Time: 35.9857\n",
      "Run: 12, Time: 39.2671\n",
      "Run: 13, Time: 42.5274\n",
      "Run: 14, Time: 45.7905\n",
      "Run: 15, Time: 49.0587\n",
      "Run: 16, Time: 52.3262\n",
      "Run: 17, Time: 55.5931\n",
      "Run: 18, Time: 58.8573\n",
      "Run: 19, Time: 62.1260\n",
      "Run: 20, Time: 65.2831\n",
      "Run: 21, Time: 68.4802\n",
      "Run: 22, Time: 71.7439\n",
      "Run: 23, Time: 75.0148\n",
      "Run: 24, Time: 78.3087\n",
      "Run: 25, Time: 81.5488\n",
      "Run: 26, Time: 84.7093\n",
      "Run: 27, Time: 88.0401\n",
      "Run: 28, Time: 91.2962\n",
      "Run: 29, Time: 94.5658\n",
      "Run: 30, Time: 97.8276\n",
      "Run: 31, Time: 101.0923\n",
      "Run: 32, Time: 104.2936\n",
      "Run: 33, Time: 107.5572\n",
      "Run: 34, Time: 110.8177\n",
      "Run: 35, Time: 114.0654\n",
      "Run: 36, Time: 117.3252\n",
      "Run: 37, Time: 120.5896\n",
      "Run: 38, Time: 123.7611\n",
      "Run: 39, Time: 126.9248\n",
      "Run: 40, Time: 130.1545\n",
      "Run: 41, Time: 133.4374\n",
      "Run: 42, Time: 136.7749\n",
      "Run: 43, Time: 140.1255\n",
      "Run: 44, Time: 143.3638\n",
      "Run: 45, Time: 146.6173\n",
      "Run: 46, Time: 149.7755\n",
      "Run: 47, Time: 152.9407\n",
      "Run: 48, Time: 156.0782\n",
      "Run: 49, Time: 159.2324\n",
      "Run: 50, Time: 162.3761\n"
     ]
    }
   ],
   "source": [
    "## compute gradient against each pixel\n",
    "LockEpsilon(model)\n",
    "start_time = time.time()\n",
    "for epoch in range(num_epochs):\n",
    "    #roll epsilon in each simulation\n",
    "    RollEpsilon(model)\n",
    "    grads = torch.empty(size=(len(train_loader), p), device = device)\n",
    "    i = -1\n",
    "    for observation in train_loader:\n",
    "        i+=1\n",
    "        x = observation[:,:p].to(device)\n",
    "        #images.requires_grad = True\n",
    "        #outputs = model(images)\n",
    "\n",
    "        grad = torch.autograd.functional.jacobian(model, x)\n",
    "        grads[i] = grad.clone()[0,0,0,:]\n",
    "        \n",
    "    \n",
    "    torch.save(grads, 'results/jacobian/run' + str(epoch+1) + '.pt')\n",
    "    grads_sum = torch.add(grads_sum ,grads)\n",
    "    print('Run: {}, Time: {:.4f}'.format(epoch+1, time.time() - start_time))"
   ]
  },
  {
   "cell_type": "code",
   "execution_count": 739,
   "metadata": {},
   "outputs": [
    {
     "data": {
      "text/plain": [
       "array([[ -3.       , -12.483518 ,  10.482657 ],\n",
       "       [ -2.995    , -12.427041 ,  10.482657 ],\n",
       "       [ -2.99     , -12.370565 ,  10.482657 ],\n",
       "       ...,\n",
       "       [  2.9850001,  -2.488496 ,  -5.341685 ],\n",
       "       [  2.99     ,  -2.5067735,  -5.341685 ],\n",
       "       [  2.9950001,  -2.525052 ,  -5.3592753]], dtype=float32)"
      ]
     },
     "execution_count": 739,
     "metadata": {},
     "output_type": "execute_result"
    }
   ],
   "source": [
    "ys = grads[:,0:1].cpu().numpy()\n",
    "\n",
    "dat= np.concatenate((xs, y_hat, ys), axis = 1)\n",
    "dat"
   ]
  },
  {
   "cell_type": "code",
   "execution_count": 740,
   "metadata": {},
   "outputs": [],
   "source": [
    "for epoch in range(num_epochs - 1):\n",
    "    r = torch.load('results/jacobian/run' + str(epoch+1) + '.pt').to(device)\n",
    "    ys = r[:,0:1].cpu().numpy()\n",
    "    dat = np.concatenate ((dat, ys), axis = 1)"
   ]
  },
  {
   "cell_type": "code",
   "execution_count": 741,
   "metadata": {},
   "outputs": [
    {
     "data": {
      "text/plain": [
       "array([[ -3.       , -12.483518 ,  10.482657 , ...,  12.249157 ,\n",
       "          9.993895 ,  11.026548 ],\n",
       "       [ -2.995    , -12.427041 ,  10.482657 , ...,  12.249157 ,\n",
       "          9.993895 ,  11.026548 ],\n",
       "       [ -2.99     , -12.370565 ,  10.482657 , ...,  12.347279 ,\n",
       "          9.993895 ,  11.026548 ],\n",
       "       ...,\n",
       "       [  2.9850001,  -2.488496 ,  -5.341685 , ...,  -3.6423965,\n",
       "         -5.454033 ,  -3.9519715],\n",
       "       [  2.99     ,  -2.5067735,  -5.341685 , ...,  -3.6423965,\n",
       "         -5.454033 ,  -3.9519715],\n",
       "       [  2.9950001,  -2.525052 ,  -5.3592753, ...,  -3.6423965,\n",
       "         -5.454033 ,  -3.9519715]], dtype=float32)"
      ]
     },
     "execution_count": 741,
     "metadata": {},
     "output_type": "execute_result"
    }
   ],
   "source": [
    "dat"
   ]
  },
  {
   "cell_type": "code",
   "execution_count": 743,
   "metadata": {},
   "outputs": [],
   "source": [
    "savetxt('dat_4l_mix_b4_r50.csv', dat, delimiter=',')"
   ]
  },
  {
   "cell_type": "code",
   "execution_count": 515,
   "metadata": {},
   "outputs": [
    {
     "data": {
      "text/plain": [
       "[<matplotlib.lines.Line2D at 0x7fcfcec0ca10>]"
      ]
     },
     "execution_count": 515,
     "metadata": {},
     "output_type": "execute_result"
    },
    {
     "data": {
      "image/png": "[encoded data removed]",
      "text/plain": [
       "<Figure size 1440x1440 with 1 Axes>"
      ]
     },
     "metadata": {
      "needs_background": "light"
     },
     "output_type": "display_data"
    }
   ],
   "source": [
    "plt.figure(figsize=(20,20))\n",
    "xs = train_dataset[:,0:1].cpu().numpy()\n",
    "ys = grads_mean[:,0:1].cpu().numpy()\n",
    "\n",
    "xs, ys = zip(*sorted(zip(xs, ys)))\n",
    "\n",
    "plt.plot(xs, ys)"
   ]
  }
 ],
 "metadata": {
  "kernelspec": {
   "display_name": "Environment (conda_pytorch_latest_p37)",
   "language": "python",
   "name": "conda_pytorch_latest_p37"
  },
  "language_info": {
   "codemirror_mode": {
    "name": "ipython",
    "version": 3
   },
   "file_extension": ".py",
   "mimetype": "text/x-python",
   "name": "python",
   "nbconvert_exporter": "python",
   "pygments_lexer": "ipython3",
   "version": "3.7.6"
  }
 },
 "nbformat": 4,
 "nbformat_minor": 4
}
